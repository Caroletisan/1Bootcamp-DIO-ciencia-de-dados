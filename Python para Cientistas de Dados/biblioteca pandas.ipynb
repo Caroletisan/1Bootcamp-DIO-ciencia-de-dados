{
  "cells": [
    {
      "cell_type": "code",
      "execution_count": 1,
      "metadata": {
        "colab": {},
        "colab_type": "code",
        "id": "HosPJUDJZ0c5"
      },
      "outputs": [],
      "source": [
        "#importando a biblioteca pandas\n",
        "import pandas as pd"
      ]
    },
    {
      "cell_type": "code",
      "execution_count": 2,
      "metadata": {
        "colab": {},
        "colab_type": "code",
        "id": "9-5IJCXOa4T3"
      },
      "outputs": [
        {
          "ename": "SyntaxError",
          "evalue": "(unicode error) 'unicodeescape' codec can't decode bytes in position 2-3: truncated \\UXXXXXXXX escape (4049032315.py, line 1)",
          "output_type": "error",
          "traceback": [
            "\u001b[1;36m  File \u001b[1;32m\"C:\\Users\\caroline.santos\\AppData\\Local\\Temp\\ipykernel_20860\\4049032315.py\"\u001b[1;36m, line \u001b[1;32m1\u001b[0m\n\u001b[1;33m    df = pd.read_csv(\"C:\\Users\\caroline.santos\\Projetos Pessoais\\DIO-bootcamp-cienca-de-dados\\Python para dados\\dataset\\Gapminder.csv\",error_bad_lines=False, sep=\";\")\u001b[0m\n\u001b[1;37m                                                                                                                                      ^\u001b[0m\n\u001b[1;31mSyntaxError\u001b[0m\u001b[1;31m:\u001b[0m (unicode error) 'unicodeescape' codec can't decode bytes in position 2-3: truncated \\UXXXXXXXX escape\n"
          ]
        }
      ],
      "source": [
        "df = pd.read_csv(\"C:\\Users\\caroline.santos\\Projetos Pessoais\\DIO-bootcamp-cienca-de-dados\\Python para dados\\dataset\\Gapminder.csv\",error_bad_lines=False, sep=\";\")"
      ]
    },
    {
      "cell_type": "code",
      "execution_count": null,
      "metadata": {
        "colab": {
          "base_uri": "https://localhost:8080/",
          "height": 204
        },
        "colab_type": "code",
        "id": "AyOIeFoTbQN5",
        "outputId": "61fa078b-016a-4601-e081-899319ebbe27"
      },
      "outputs": [],
      "source": [
        "#Visualizando as 5 primeiras linhas\n",
        "df.head()"
      ]
    },
    {
      "cell_type": "code",
      "execution_count": null,
      "metadata": {
        "colab": {},
        "colab_type": "code",
        "id": "4Rim8fDsbnHS"
      },
      "outputs": [],
      "source": [
        "df = df.rename(columns={\"country\":\"Pais\", \"continent\": \"Continente\", \"year\":\"Ano\", \"lifeExp\":\"Expectativa de vida\", \"pop\":\"Pop Total\", \"gdpPercap\": \"PIB\"})"
      ]
    },
    {
      "cell_type": "code",
      "execution_count": null,
      "metadata": {
        "colab": {
          "base_uri": "https://localhost:8080/",
          "height": 359
        },
        "colab_type": "code",
        "id": "Wr2_q1hocgw1",
        "outputId": "8d9a0939-d9ac-4f47-d2ed-582e7b46db38"
      },
      "outputs": [],
      "source": [
        "df.head(10)"
      ]
    },
    {
      "cell_type": "code",
      "execution_count": null,
      "metadata": {
        "colab": {
          "base_uri": "https://localhost:8080/",
          "height": 34
        },
        "colab_type": "code",
        "id": "lcvQZhhCcq2j",
        "outputId": "452e0d35-1994-41e9-a96b-0d1223c53829"
      },
      "outputs": [],
      "source": [
        "#Total de linhas e colunas\n",
        "df.shape"
      ]
    },
    {
      "cell_type": "code",
      "execution_count": null,
      "metadata": {
        "colab": {
          "base_uri": "https://localhost:8080/",
          "height": 34
        },
        "colab_type": "code",
        "id": "wjMe0mFFc0oE",
        "outputId": "f353f9c5-9cc0-42f5-9aaa-7c428d6105b3"
      },
      "outputs": [],
      "source": [
        "df.columns"
      ]
    },
    {
      "cell_type": "code",
      "execution_count": null,
      "metadata": {
        "colab": {
          "base_uri": "https://localhost:8080/",
          "height": 136
        },
        "colab_type": "code",
        "id": "-JxIhvy3c-d8",
        "outputId": "c46cc78b-7072-4098-dcf3-fb821374b19a"
      },
      "outputs": [],
      "source": [
        "df.dtypes"
      ]
    },
    {
      "cell_type": "code",
      "execution_count": null,
      "metadata": {
        "colab": {
          "base_uri": "https://localhost:8080/",
          "height": 514
        },
        "colab_type": "code",
        "id": "QIlqBtybdDBM",
        "outputId": "e735668e-3867-47ba-8ec4-fc19d7c7b1ae"
      },
      "outputs": [],
      "source": [
        "df.tail(15)"
      ]
    },
    {
      "cell_type": "code",
      "execution_count": null,
      "metadata": {
        "colab": {
          "base_uri": "https://localhost:8080/",
          "height": 297
        },
        "colab_type": "code",
        "id": "7FBeX6LIdWEG",
        "outputId": "fea4c019-c73c-4b4d-9afb-63a77e1be27c"
      },
      "outputs": [],
      "source": [
        "df.describe()"
      ]
    },
    {
      "cell_type": "code",
      "execution_count": null,
      "metadata": {
        "colab": {
          "base_uri": "https://localhost:8080/",
          "height": 51
        },
        "colab_type": "code",
        "id": "VpiTdqMDdg2J",
        "outputId": "655b7629-c6d8-41b0-b9a9-437485c2e3f5"
      },
      "outputs": [],
      "source": [
        "df[\"continente\"].unique()"
      ]
    },
    {
      "cell_type": "code",
      "execution_count": null,
      "metadata": {
        "colab": {
          "base_uri": "https://localhost:8080/",
          "height": 204
        },
        "colab_type": "code",
        "id": "iYkqpfomeFv0",
        "outputId": "c170c52e-aae8-4dc3-a0ce-8e8e25710c53"
      },
      "outputs": [],
      "source": [
        "Oceania = df.loc[df[\"continente\"] == \"Oceania\"]\n",
        "Oceania.head()"
      ]
    },
    {
      "cell_type": "code",
      "execution_count": null,
      "metadata": {
        "colab": {
          "base_uri": "https://localhost:8080/",
          "height": 34
        },
        "colab_type": "code",
        "id": "lBRxYPZEecyH",
        "outputId": "b4d817fe-cf25-475c-af3f-fbf0722526d6"
      },
      "outputs": [],
      "source": [
        "Oceania[\"continente\"].unique()"
      ]
    },
    {
      "cell_type": "code",
      "execution_count": null,
      "metadata": {
        "colab": {
          "base_uri": "https://localhost:8080/",
          "height": 153
        },
        "colab_type": "code",
        "id": "YtYzNHw4eije",
        "outputId": "9884fd7b-8703-4306-9c0e-17b074e19e75"
      },
      "outputs": [],
      "source": [
        "df.groupby(\"continente\")[\"Pais\"].nunique()"
      ]
    },
    {
      "cell_type": "code",
      "execution_count": null,
      "metadata": {
        "colab": {
          "base_uri": "https://localhost:8080/",
          "height": 1000
        },
        "colab_type": "code",
        "id": "JXyJK1M6e4p5",
        "outputId": "3dd7b00d-c1ce-4a34-9119-d49c07631c2f"
      },
      "outputs": [],
      "source": [
        "df.groupby(\"Ano\")[\"Expectativa de vida\"].mean()"
      ]
    },
    {
      "cell_type": "code",
      "execution_count": null,
      "metadata": {
        "colab": {
          "base_uri": "https://localhost:8080/",
          "height": 34
        },
        "colab_type": "code",
        "id": "77-NQlTzfVNc",
        "outputId": "b7a2a84c-4b88-4829-9e59-47544e2eb34b"
      },
      "outputs": [],
      "source": [
        "df[\"PIB\"].mean()"
      ]
    },
    {
      "cell_type": "code",
      "execution_count": null,
      "metadata": {
        "colab": {
          "base_uri": "https://localhost:8080/",
          "height": 34
        },
        "colab_type": "code",
        "id": "0lsZACzvfg80",
        "outputId": "9408b6b3-6604-4a37-f06c-8d50290fb1da"
      },
      "outputs": [],
      "source": [
        "df[\"PIB\"].sum()"
      ]
    },
    {
      "cell_type": "code",
      "execution_count": null,
      "metadata": {
        "colab": {},
        "colab_type": "code",
        "id": "UMMCdfDsfmao"
      },
      "outputs": [],
      "source": []
    }
  ],
  "metadata": {
    "colab": {
      "collapsed_sections": [],
      "name": "Aula1_Pandas.ipynb",
      "provenance": []
    },
    "kernelspec": {
      "display_name": "Python 3.9.13 ('base')",
      "language": "python",
      "name": "python3"
    },
    "language_info": {
      "codemirror_mode": {
        "name": "ipython",
        "version": 3
      },
      "file_extension": ".py",
      "mimetype": "text/x-python",
      "name": "python",
      "nbconvert_exporter": "python",
      "pygments_lexer": "ipython3",
      "version": "3.9.13"
    },
    "vscode": {
      "interpreter": {
        "hash": "90d708e18b5f0eb69c69cca8bd92d83d590dc2f02a4d02c5b8892d41f1ad1fa4"
      }
    }
  },
  "nbformat": 4,
  "nbformat_minor": 0
}
